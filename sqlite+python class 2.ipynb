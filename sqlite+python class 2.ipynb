{
 "cells": [
  {
   "cell_type": "code",
   "execution_count": 20,
   "id": "b19520f4-4728-4f3f-a953-5f1a0a05928d",
   "metadata": {},
   "outputs": [],
   "source": [
    "import sqlite3\n",
    "import re\n"
   ]
  },
  {
   "cell_type": "code",
   "execution_count": 5,
   "id": "c09685df-9403-44b6-916f-23a1f242c616",
   "metadata": {},
   "outputs": [],
   "source": [
    "cur.execute(\"ALTER table student add university varchar not null deafult 'tu';\")\n",
    "con.commit()"
   ]
  },
  {
   "cell_type": "code",
   "execution_count": 9,
   "id": "feea659c-c179-443a-a08b-aa14baa0a0a1",
   "metadata": {},
   "outputs": [],
   "source": [
    "user_input = input(\"Enter your address\")\n",
    "\n",
    "students = cur.execute(f\"SELECT * from student where address = '{user_input}';\")\n",
    "\n",
    "for student in students:\n",
    "    print(student)"
   ]
  },
  {
   "cell_type": "code",
   "execution_count": 11,
   "id": "697e3bf0-f5dc-4644-a195-106d41c0cac3",
   "metadata": {},
   "outputs": [],
   "source": [
    "user_input = input(\"Enter your address\")\n",
    "\n",
    "students = cur.execute(f\"SELECT * from student where address = '{user_input}';\")\n",
    "\n",
    "for student in students:\n",
    "    print(student)"
   ]
  },
  {
   "cell_type": "code",
   "execution_count": 13,
   "id": "72d336fc-e5ab-4cc3-acd0-5b4a554dcc71",
   "metadata": {},
   "outputs": [],
   "source": [
    "user_input = input(\"Enter your address\")\n",
    "\n",
    "students = cur.execute(f\"SELECT * from student where address = ?;\", (user_input,))\n",
    "\n",
    "for student in students:\n",
    "    print(student)"
   ]
  },
  {
   "cell_type": "code",
   "execution_count": 16,
   "id": "893975a8-067b-4079-962b-adf8ddf279c9",
   "metadata": {},
   "outputs": [],
   "source": [
    "student = (11,'bidur timsina', 'kathmandu','ncmt',22,'m','BIT','lincon')\n",
    "\n",
    "INSERT_RECORDS = \"\"\"\n",
    "INSERT into student\n",
    "('id','name', 'college','age','gender','faculty','university')\n",
    "values\n",
    "(?,?,?,?,?,?,?);\n",
    "\n",
    "\"\"\"\n",
    "\n",
    "cur.execute(INSERT_RECORDS, student)\n",
    "\n",
    "con.commit()"
   ]
  },
  {
   "cell_type": "code",
   "execution_count": 22,
   "id": "7ce32ed5-4aad-46d7-ac7b-ba28cc77c1ff",
   "metadata": {},
   "outputs": [],
   "source": [
    "students= [\n",
    "    (11,'bidur timsina', 'kathmandu','ncmt',22,'m','BIT','lincon'),\n",
    "    (11,'Prem ', 'kathmandu','ncmt',23,'m','BIT','tu'),\n",
    "    (11,'birendra', 'bhaktapur','ncit',20,'m','BHM','pu')\n",
    "]\n",
    "\n",
    "\n",
    "for student in students:\n",
    "        \n",
    "    INSERT_RECORDS = \"\"\"\n",
    "    INSERT into student\n",
    "    ('id','name', 'college','age','gender','faculty','university')\n",
    "    values\n",
    "    (?,?,?,?,?,?,?);\n",
    "    \n",
    "    \"\"\"\n",
    "    \n",
    "    cur.execute(INSERT_RECORDS, student)\n",
    "    \n",
    "    con.commit()\n",
    "    "
   ]
  },
  {
   "cell_type": "code",
   "execution_count": 24,
   "id": "a02fae2e-275d-4932-b1bd-1bce8b84f3dc",
   "metadata": {},
   "outputs": [],
   "source": [
    "students= [\n",
    "    (11,'bidur timsina', 'kathmandu','ncmt',22,'m','BIT','lincon'),\n",
    "    (11,'Prem ', 'kathmandu','ncmt',23,'m','BIT','tu'),\n",
    "    (11,'birendra', 'bhaktapur','ncit',20,'m','BHM','pu')\n",
    "]\n",
    "\n",
    "\n",
    "for student in students:\n",
    "        \n",
    "    INSERT_RECORDS = \"\"\"\n",
    "    INSERT into student\n",
    "    ('id','name', 'college','age','gender','faculty','university')\n",
    "    values\n",
    "    (?,?,?,?,?,?,?);\n",
    "    \n",
    "    \"\"\"\n",
    "    \n",
    "    cur.executemany(INSERT_RECORDS, student)\n",
    "    \n",
    "    con.commit()\n",
    "    "
   ]
  },
  {
   "cell_type": "code",
   "execution_count": null,
   "id": "4353e465-fdf9-4efc-b159-71e24ce178c2",
   "metadata": {},
   "outputs": [],
   "source": []
  }
 ],
 "metadata": {
  "kernelspec": {
   "display_name": "Python 3 (ipykernel)",
   "language": "python",
   "name": "python3"
  },
  "language_info": {
   "codemirror_mode": {
    "name": "ipython",
    "version": 3
   },
   "file_extension": ".py",
   "mimetype": "text/x-python",
   "name": "python",
   "nbconvert_exporter": "python",
   "pygments_lexer": "ipython3",
   "version": "3.13.1"
  }
 },
 "nbformat": 4,
 "nbformat_minor": 5
}
